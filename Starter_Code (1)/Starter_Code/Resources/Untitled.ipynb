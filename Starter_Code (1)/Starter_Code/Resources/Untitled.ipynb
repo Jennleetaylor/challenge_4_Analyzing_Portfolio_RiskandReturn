{
 "cells": [
  {
   "cell_type": "code",
   "execution_count": null,
   "id": "cac06bd0-a09b-4a02-a5d8-b5da3cbaaaad",
   "metadata": {},
   "outputs": [],
   "source": []
  }
 ],
 "metadata": {
  "kernelspec": {
   "display_name": "dev",
   "language": "python",
   "name": "dev"
  },
  "language_info": {
   "codemirror_mode": {
    "name": "ipython",
    "version": 3
   },
   "file_extension": ".py",
   "mimetype": "text/x-python",
   "name": "python",
   "nbconvert_exporter": "python",
   "pygments_lexer": "ipython3",
   "version": "3.7.11"
  }
 },
 "nbformat": 4,
 "nbformat_minor": 5
}
